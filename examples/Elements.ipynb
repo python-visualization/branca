{
 "cells": [
  {
   "cell_type": "code",
   "execution_count": 1,
   "metadata": {},
   "outputs": [],
   "source": [
    "import sys\n",
    "sys.path.insert(0, '..')\n",
    "\n",
    "from branca.element import *"
   ]
  },
  {
   "cell_type": "markdown",
   "metadata": {},
   "source": [
    "## Element"
   ]
  },
  {
   "cell_type": "markdown",
   "metadata": {},
   "source": [
    "This is the base brick of `branca`. You can create an `Element` in providing a template string:"
   ]
  },
  {
   "cell_type": "code",
   "execution_count": 2,
   "metadata": {},
   "outputs": [],
   "source": [
    "e = Element(\"This is fancy text\")"
   ]
  },
  {
   "cell_type": "markdown",
   "metadata": {},
   "source": [
    "Each element has an attribute `_name` and a unique `_id`. You also have a method `get_name` to get a unique string representation of the element."
   ]
  },
  {
   "cell_type": "code",
   "execution_count": 3,
   "metadata": {},
   "outputs": [
    {
     "name": "stdout",
     "output_type": "stream",
     "text": [
      "Element a1d0f648f7444f96b526931944247fd6\n",
      "element_a1d0f648f7444f96b526931944247fd6\n"
     ]
    }
   ],
   "source": [
    "print(e._name, e._id)\n",
    "print(e.get_name())"
   ]
  },
  {
   "cell_type": "markdown",
   "metadata": {},
   "source": [
    "You can render an `Element` using the method `render`:"
   ]
  },
  {
   "cell_type": "code",
   "execution_count": 4,
   "metadata": {},
   "outputs": [
    {
     "data": {
      "text/plain": [
       "'This is fancy text'"
      ]
     },
     "execution_count": 4,
     "metadata": {},
     "output_type": "execute_result"
    }
   ],
   "source": [
    "e.render()"
   ]
  },
  {
   "cell_type": "markdown",
   "metadata": {},
   "source": [
    "In the template, you can use keyword `this` for accessing the object itself ; and the keyword `kwargs` for accessing any keyword argument provided in the `render` method:"
   ]
  },
  {
   "cell_type": "code",
   "execution_count": 5,
   "metadata": {},
   "outputs": [
    {
     "data": {
      "text/plain": [
       "'Hello World, my name is `element_6f17661abddb45c7bf2aa794cadd327d`.'"
      ]
     },
     "execution_count": 5,
     "metadata": {},
     "output_type": "execute_result"
    }
   ],
   "source": [
    "e = Element(\"Hello {{kwargs['you']}}, my name is `{{this.get_name()}}`.\")\n",
    "e.render(you='World')"
   ]
  },
  {
   "cell_type": "markdown",
   "metadata": {},
   "source": [
    "Well, this is not really cool for now. What makes elements useful lies in the fact that you can create trees out of them. To do so, you can either use the method `add_child` or the method `add_to`."
   ]
  },
  {
   "cell_type": "code",
   "execution_count": 6,
   "metadata": {},
   "outputs": [],
   "source": [
    "child = Element('This is the child.')\n",
    "parent = Element('This is the parent.').add_child(child)\n",
    "\n",
    "parent = Element('This is the parent.')\n",
    "child = Element('This is the child.').add_to(parent)"
   ]
  },
  {
   "cell_type": "markdown",
   "metadata": {},
   "source": [
    "Now in the example above, embedding the one in the other does not change anything."
   ]
  },
  {
   "cell_type": "code",
   "execution_count": 7,
   "metadata": {},
   "outputs": [
    {
     "name": "stdout",
     "output_type": "stream",
     "text": [
      "This is the parent. This is the child.\n"
     ]
    }
   ],
   "source": [
    "print(parent.render(), child.render())"
   ]
  },
  {
   "cell_type": "markdown",
   "metadata": {},
   "source": [
    "But you can use the tree structure in the template."
   ]
  },
  {
   "cell_type": "code",
   "execution_count": 8,
   "metadata": {},
   "outputs": [
    {
     "data": {
      "text/plain": [
       "'<parent><child1/><child2/></parent>'"
      ]
     },
     "execution_count": 8,
     "metadata": {},
     "output_type": "execute_result"
    }
   ],
   "source": [
    "parent = Element(\"<parent>{% for child in this._children.values() %}{{child.render()}}{% endfor %}</parent>\")\n",
    "Element('<child1/>').add_to(parent)\n",
    "Element('<child2/>').add_to(parent)\n",
    "parent.render()"
   ]
  },
  {
   "cell_type": "markdown",
   "metadata": {},
   "source": [
    "As you can see, the child of an element are referenced in the `_children` attribute in the form of an `OrderedDict`. You can choose the key of each child in specifying a `name` in the `add_child` (or `add_to`) method:"
   ]
  },
  {
   "cell_type": "code",
   "execution_count": 9,
   "metadata": {},
   "outputs": [
    {
     "data": {
      "text/plain": [
       "OrderedDict([('child_1', <branca.element.Element at 0x7f758f2db6a0>)])"
      ]
     },
     "execution_count": 9,
     "metadata": {},
     "output_type": "execute_result"
    }
   ],
   "source": [
    "parent = Element(\"<parent>{% for child in this._children.values() %}{{child.render()}}{% endfor %}</parent>\")\n",
    "Element('<child1/>').add_to(parent, name='child_1')\n",
    "parent._children"
   ]
  },
  {
   "cell_type": "markdown",
   "metadata": {},
   "source": [
    "That way, it's possible to overwrite a child in specifying the same name:"
   ]
  },
  {
   "cell_type": "code",
   "execution_count": 10,
   "metadata": {},
   "outputs": [
    {
     "data": {
      "text/plain": [
       "'<parent><child1_overwritten/></parent>'"
      ]
     },
     "execution_count": 10,
     "metadata": {},
     "output_type": "execute_result"
    }
   ],
   "source": [
    "Element('<child1_overwritten/>').add_to(parent, name='child_1')\n",
    "parent.render()"
   ]
  },
  {
   "cell_type": "markdown",
   "metadata": {},
   "source": [
    "I hope you start to find it useful.\n",
    "\n",
    "In fact, the real interest of `Element` lies in the classes that inherit from it. The most important one is `Figure` described in the next section."
   ]
  },
  {
   "cell_type": "markdown",
   "metadata": {},
   "source": [
    "## Figure\n",
    "\n",
    "A `Figure` represents an HTML document. It's composed of 3 parts (attributes):\n",
    "\n",
    "* `header` : corresponds to the `<head>` part of the HTML document,\n",
    "* `html` : corresponds to the `<body>` part,\n",
    "* `script` : corresponds to a `<script>` section that will be appended after the `<body>` section."
   ]
  },
  {
   "cell_type": "code",
   "execution_count": 11,
   "metadata": {},
   "outputs": [
    {
     "name": "stdout",
     "output_type": "stream",
     "text": [
      "<!DOCTYPE html>\n",
      "<head>    \n",
      "    <meta http-equiv=\"content-type\" content=\"text/html; charset=UTF-8\" />\n",
      "</head>\n",
      "<body>    \n",
      "</body>\n",
      "<script>    \n",
      "</script>\n"
     ]
    }
   ],
   "source": [
    "f = Figure()\n",
    "print(f.render())"
   ]
  },
  {
   "cell_type": "markdown",
   "metadata": {},
   "source": [
    "You can for example create a beautiful cyan \"hello-world\" webpage in doing:"
   ]
  },
  {
   "cell_type": "code",
   "execution_count": 12,
   "metadata": {},
   "outputs": [
    {
     "name": "stdout",
     "output_type": "stream",
     "text": [
      "<!DOCTYPE html>\n",
      "<head>    \n",
      "    <meta http-equiv=\"content-type\" content=\"text/html; charset=UTF-8\" />\n",
      "    <style>body {background-color: #00ffff}</style>\n",
      "</head>\n",
      "<body>    \n",
      "    <h1>Hello world</h1>\n",
      "</body>\n",
      "<script>    \n",
      "</script>\n"
     ]
    }
   ],
   "source": [
    "f.header.add_child(Element(\"<style>body {background-color: #00ffff}</style>\"))\n",
    "f.html.add_child(Element(\"<h1>Hello world</h1>\"))\n",
    "print(f.render())"
   ]
  },
  {
   "cell_type": "markdown",
   "metadata": {},
   "source": [
    "You can simply save the content of the `Figure` to a file, thanks to the `save` method:"
   ]
  },
  {
   "cell_type": "code",
   "execution_count": 13,
   "metadata": {},
   "outputs": [
    {
     "name": "stdout",
     "output_type": "stream",
     "text": [
      "<!DOCTYPE html>\n",
      "<head>    \n",
      "    <meta http-equiv=\"content-type\" content=\"text/html; charset=UTF-8\" />\n",
      "    <style>body {background-color: #00ffff}</style>\n",
      "</head>\n",
      "<body>    \n",
      "    <h1>Hello world</h1>\n",
      "</body>\n",
      "<script>    \n",
      "</script>\n"
     ]
    }
   ],
   "source": [
    "f.save('foo.html')\n",
    "print(open('foo.html').read())"
   ]
  },
  {
   "cell_type": "markdown",
   "metadata": {},
   "source": [
    "If you want to visualize it in the notebook, you can let `Figure._repr_html_` method do it's job in typing: "
   ]
  },
  {
   "cell_type": "code",
   "execution_count": 14,
   "metadata": {},
   "outputs": [
    {
     "data": {
      "text/html": [
       "<div style=\"width:100%;\"><div style=\"position:relative;width:100%;height:0;padding-bottom:60%;\"><iframe src=\"data:text/html;base64,PCFET0NUWVBFIGh0bWw+CjxoZWFkPiAgICAKICAgIDxtZXRhIGh0dHAtZXF1aXY9ImNvbnRlbnQtdHlwZSIgY29udGVudD0idGV4dC9odG1sOyBjaGFyc2V0PVVURi04IiAvPgogICAgPHN0eWxlPmJvZHkge2JhY2tncm91bmQtY29sb3I6ICMwMGZmZmZ9PC9zdHlsZT4KPC9oZWFkPgo8Ym9keT4gICAgCiAgICA8aDE+SGVsbG8gd29ybGQ8L2gxPgo8L2JvZHk+CjxzY3JpcHQ+ICAgIAo8L3NjcmlwdD4=\" style=\"position:absolute;width:100%;height:100%;left:0;top:0;\"></iframe></div></div>"
      ],
      "text/plain": [
       "<branca.element.Figure at 0x7f758f2db2b0>"
      ]
     },
     "execution_count": 14,
     "metadata": {},
     "output_type": "execute_result"
    }
   ],
   "source": [
    "f"
   ]
  },
  {
   "cell_type": "markdown",
   "metadata": {},
   "source": [
    "If this rendering is too large for you, you can force it's width and height:"
   ]
  },
  {
   "cell_type": "code",
   "execution_count": 15,
   "metadata": {},
   "outputs": [
    {
     "data": {
      "text/html": [
       "<iframe src=\"data:text/html;base64,PCFET0NUWVBFIGh0bWw+CjxoZWFkPiAgICAKICAgIDxtZXRhIGh0dHAtZXF1aXY9ImNvbnRlbnQtdHlwZSIgY29udGVudD0idGV4dC9odG1sOyBjaGFyc2V0PVVURi04IiAvPgogICAgPHN0eWxlPmJvZHkge2JhY2tncm91bmQtY29sb3I6ICMwMGZmZmZ9PC9zdHlsZT4KPC9oZWFkPgo8Ym9keT4gICAgCiAgICA8aDE+SGVsbG8gd29ybGQ8L2gxPgo8L2JvZHk+CjxzY3JpcHQ+ICAgIAo8L3NjcmlwdD4=\" width=\"300\" height=\"200\"></iframe>"
      ],
      "text/plain": [
       "<branca.element.Figure at 0x7f758f2db2b0>"
      ]
     },
     "execution_count": 15,
     "metadata": {},
     "output_type": "execute_result"
    }
   ],
   "source": [
    "f.width = 300\n",
    "f.height = 200\n",
    "f"
   ]
  },
  {
   "cell_type": "markdown",
   "metadata": {},
   "source": [
    "Note that you can also define a `Figure`'s size in a matplotlib way:"
   ]
  },
  {
   "cell_type": "code",
   "execution_count": 16,
   "metadata": {},
   "outputs": [
    {
     "data": {
      "text/html": [
       "<iframe src=\"data:text/html;base64,PCFET0NUWVBFIGh0bWw+CjxoZWFkPiAgICAKICAgIDxtZXRhIGh0dHAtZXF1aXY9ImNvbnRlbnQtdHlwZSIgY29udGVudD0idGV4dC9odG1sOyBjaGFyc2V0PVVURi04IiAvPgo8L2hlYWQ+Cjxib2R5PiAgICAKPC9ib2R5Pgo8c2NyaXB0PiAgICAKPC9zY3JpcHQ+\" width=\"300px\" height=\"300px\"></iframe>"
      ],
      "text/plain": [
       "<branca.element.Figure at 0x7f758f052f98>"
      ]
     },
     "execution_count": 16,
     "metadata": {},
     "output_type": "execute_result"
    }
   ],
   "source": [
    "Figure(figsize=(5,5))"
   ]
  },
  {
   "cell_type": "markdown",
   "metadata": {},
   "source": [
    "## MacroElement"
   ]
  },
  {
   "cell_type": "markdown",
   "metadata": {},
   "source": [
    "It happens you need to create elements that have multiple effects on a Figure. For this, you can use `MacroElement` whose template contains macros ; each macro writes something into the parent Figure's header, body and script."
   ]
  },
  {
   "cell_type": "code",
   "execution_count": 17,
   "metadata": {},
   "outputs": [
    {
     "name": "stdout",
     "output_type": "stream",
     "text": [
      "<!DOCTYPE html>\n",
      "<head>    \n",
      "    <meta http-equiv=\"content-type\" content=\"text/html; charset=UTF-8\" />\n",
      "    This is header of macro_element_ea36a310ab8a4212a8c7ca754a4140fc\n",
      "</head>\n",
      "<body>    \n",
      "    This is html of macro_element_ea36a310ab8a4212a8c7ca754a4140fc\n",
      "</body>\n",
      "<script>    \n",
      "    This is script of macro_element_ea36a310ab8a4212a8c7ca754a4140fc\n",
      "</script>\n"
     ]
    }
   ],
   "source": [
    "macro = MacroElement()\n",
    "macro._template = Template(\n",
    "    '{% macro header(this, kwargs) %}'\n",
    "    'This is header of {{this.get_name()}}'\n",
    "    '{% endmacro %}'\n",
    "\n",
    "    '{% macro html(this, kwargs) %}'\n",
    "    'This is html of {{this.get_name()}}'\n",
    "    '{% endmacro %}'\n",
    "\n",
    "    '{% macro script(this, kwargs) %}'\n",
    "    'This is script of {{this.get_name()}}'\n",
    "    '{% endmacro %}'\n",
    "    )\n",
    "\n",
    "print(Figure().add_child(macro).render())"
   ]
  },
  {
   "cell_type": "markdown",
   "metadata": {},
   "source": [
    "## Link"
   ]
  },
  {
   "cell_type": "markdown",
   "metadata": {},
   "source": [
    "To embed javascript and css links in the header, you can use these class:"
   ]
  },
  {
   "cell_type": "code",
   "execution_count": 18,
   "metadata": {},
   "outputs": [
    {
     "data": {
      "text/plain": [
       "'<script src=\"https://example.com/javascript.js\"></script>'"
      ]
     },
     "execution_count": 18,
     "metadata": {},
     "output_type": "execute_result"
    }
   ],
   "source": [
    "js_link = JavascriptLink('https://example.com/javascript.js')\n",
    "js_link.render()"
   ]
  },
  {
   "cell_type": "code",
   "execution_count": 19,
   "metadata": {},
   "outputs": [
    {
     "data": {
      "text/plain": [
       "'<link rel=\"stylesheet\" href=\"https://example.com/style.css\" />'"
      ]
     },
     "execution_count": 19,
     "metadata": {},
     "output_type": "execute_result"
    }
   ],
   "source": [
    "css_link = CssLink('https://example.com/style.css')\n",
    "css_link.render()"
   ]
  },
  {
   "cell_type": "markdown",
   "metadata": {},
   "source": [
    "## Html"
   ]
  },
  {
   "cell_type": "markdown",
   "metadata": {},
   "source": [
    "An `Html` element enables you to create custom div to put in the *body* of your page."
   ]
  },
  {
   "cell_type": "code",
   "execution_count": 26,
   "metadata": {},
   "outputs": [
    {
     "data": {
      "text/plain": [
       "'<div id=\"html_cec7064e3ecc492ca40ac8c6f63ce839\" style=\"width: 100.0%; height: 100.0%;\">Hello world</div>'"
      ]
     },
     "execution_count": 26,
     "metadata": {},
     "output_type": "execute_result"
    }
   ],
   "source": [
    "html = Html('Hello world')\n",
    "html.render()"
   ]
  },
  {
   "cell_type": "markdown",
   "metadata": {},
   "source": [
    "It's designed to render the text *as you gave it*, so it won't work directly it you want to embed HTML code inside the div."
   ]
  },
  {
   "cell_type": "code",
   "execution_count": 25,
   "metadata": {},
   "outputs": [
    {
     "data": {
      "text/plain": [
       "'<div id=\"html_18a1f0cf2e61444d8a396ad5cb77f864\" style=\"width: 100.0%; height: 100.0%;\">&lt;b&gt;Hello world&lt;/b&gt;</div>'"
      ]
     },
     "execution_count": 25,
     "metadata": {},
     "output_type": "execute_result"
    }
   ],
   "source": [
    "Html('<b>Hello world</b>').render()"
   ]
  },
  {
   "cell_type": "markdown",
   "metadata": {},
   "source": [
    "For this, you have to set `script=True` and it will work:"
   ]
  },
  {
   "cell_type": "code",
   "execution_count": 28,
   "metadata": {},
   "outputs": [
    {
     "data": {
      "text/plain": [
       "'<div id=\"html_9cf0c436b7f0462ea59479bc9175e72a\" style=\"width: 100.0%; height: 100.0%;\"><b>Hello world</b></div>'"
      ]
     },
     "execution_count": 28,
     "metadata": {},
     "output_type": "execute_result"
    }
   ],
   "source": [
    "Html('<b>Hello world</b>', script=True).render()"
   ]
  },
  {
   "cell_type": "markdown",
   "metadata": {},
   "source": [
    "## IFrame"
   ]
  },
  {
   "cell_type": "markdown",
   "metadata": {},
   "source": [
    "If you need to embed a full webpage (with separate javascript environment), you can use `IFrame`."
   ]
  },
  {
   "cell_type": "code",
   "execution_count": 21,
   "metadata": {},
   "outputs": [
    {
     "data": {
      "text/plain": [
       "'<div style=\"width:100%;\"><div style=\"position:relative;width:100%;height:0;padding-bottom:60%;\"><iframe src=\"data:text/html;base64,CiAgICBIZWxsbyBXb3JsZA==\" style=\"position:absolute;width:100%;height:100%;left:0;top:0;\"></iframe></div></div>'"
      ]
     },
     "execution_count": 21,
     "metadata": {},
     "output_type": "execute_result"
    }
   ],
   "source": [
    "iframe = IFrame('Hello World')\n",
    "iframe.render()"
   ]
  },
  {
   "cell_type": "markdown",
   "metadata": {},
   "source": [
    "As you can see, it will embed the full content of the iframe in a *base64* string so that the output looks like:"
   ]
  },
  {
   "cell_type": "code",
   "execution_count": 22,
   "metadata": {},
   "outputs": [
    {
     "data": {
      "text/html": [
       "<iframe src=\"data:text/html;base64,PCFET0NUWVBFIGh0bWw+CjxoZWFkPiAgICAKICAgIDxtZXRhIGh0dHAtZXF1aXY9ImNvbnRlbnQtdHlwZSIgY29udGVudD0idGV4dC9odG1sOyBjaGFyc2V0PVVURi04IiAvPgo8L2hlYWQ+Cjxib2R5PiAgICAKICAgIEJlZm9yZSB0aGUgZnJhbWUKICAgIDxpZnJhbWUgc3JjPSJkYXRhOnRleHQvaHRtbDtiYXNlNjQsQ2lBZ0lDQkpiaUIwYUdVZ1puSmhiV1U9IiB3aWR0aD0iMTAwJSIgaGVpZ2h0PSIxMDBweCI+PC9pZnJhbWU+CiAgICBBZnRlciB0aGUgZnJhbWUKPC9ib2R5Pgo8c2NyaXB0PiAgICAKPC9zY3JpcHQ+\" width=\"100%\" height=\"180\"></iframe>"
      ],
      "text/plain": [
       "<branca.element.Figure at 0x7f758f07a8d0>"
      ]
     },
     "execution_count": 22,
     "metadata": {},
     "output_type": "execute_result"
    }
   ],
   "source": [
    "f = Figure(height=180)\n",
    "f.html.add_child(Element(\"Before the frame\"))\n",
    "f.html.add_child(IFrame('In the frame', height='100px'))\n",
    "f.html.add_child(Element(\"After the frame\"))\n",
    "f"
   ]
  },
  {
   "cell_type": "markdown",
   "metadata": {},
   "source": [
    "## Div"
   ]
  },
  {
   "cell_type": "markdown",
   "metadata": {},
   "source": [
    "At last, you have the `Div` element that behaves almost like `Html` with a few differences:\n",
    "\n",
    "* The style is put in the header, while `Html`'s style is embedded inline.\n",
    "* `Div` inherits from `MacroElement` so that:\n",
    "  * It cannot be rendered unless it's embedded in a `Figure`.\n",
    "  * It is a useful object toinherit from when you create new classes."
   ]
  },
  {
   "cell_type": "code",
   "execution_count": 29,
   "metadata": {},
   "outputs": [
    {
     "name": "stdout",
     "output_type": "stream",
     "text": [
      "<!DOCTYPE html>\n",
      "<head>    \n",
      "    <meta http-equiv=\"content-type\" content=\"text/html; charset=UTF-8\" />\n",
      "    <style> #div_e72aae6984604f7093a46452870bbebd {\n",
      "        position : relative;\n",
      "        width : 100.0%;\n",
      "        height: 100.0%;\n",
      "        left: 0.0%;\n",
      "        top: 0.0%;\n",
      "    </style>\n",
      "</head>\n",
      "<body>    \n",
      "    <div id=\"div_e72aae6984604f7093a46452870bbebd\">Hello world</div>\n",
      "</body>\n",
      "<script>    \n",
      "</script>\n"
     ]
    }
   ],
   "source": [
    "div = Div()\n",
    "div.html.add_child(Element('Hello world'))\n",
    "print(Figure().add_child(div).render())"
   ]
  }
 ],
 "metadata": {
  "kernelspec": {
   "display_name": "Python 3 (ipykernel)",
   "language": "python",
   "name": "python3"
  },
  "language_info": {
   "codemirror_mode": {
    "name": "ipython",
    "version": 3
   },
   "file_extension": ".py",
   "mimetype": "text/x-python",
   "name": "python",
   "nbconvert_exporter": "python",
   "pygments_lexer": "ipython3",
   "version": "3.11.0"
  }
 },
 "nbformat": 4,
 "nbformat_minor": 1
}
